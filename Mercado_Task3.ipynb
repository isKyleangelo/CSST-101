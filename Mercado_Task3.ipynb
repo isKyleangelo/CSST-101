{
  "nbformat": 4,
  "nbformat_minor": 0,
  "metadata": {
    "colab": {
      "provenance": [],
      "authorship_tag": "ABX9TyMAHEboAkZsJnNwP/3tJSzl",
      "include_colab_link": true
    },
    "kernelspec": {
      "name": "python3",
      "display_name": "Python 3"
    },
    "language_info": {
      "name": "python"
    }
  },
  "cells": [
    {
      "cell_type": "markdown",
      "metadata": {
        "id": "view-in-github",
        "colab_type": "text"
      },
      "source": [
        "<a href=\"https://colab.research.google.com/github/isKyleangelo/CSST-101/blob/main/Mercado_Task3.ipynb\" target=\"_parent\"><img src=\"https://colab.research.google.com/assets/colab-badge.svg\" alt=\"Open In Colab\"/></a>"
      ]
    },
    {
      "cell_type": "code",
      "execution_count": 1,
      "metadata": {
        "colab": {
          "base_uri": "https://localhost:8080/"
        },
        "id": "s09bRvJNJAj5",
        "outputId": "20010419-4200-439b-fe9a-1c3b2052f646"
      },
      "outputs": [
        {
          "output_type": "stream",
          "name": "stdout",
          "text": [
            "Rule: Eligible(x) -> Scholarship(x)\n",
            "Fact: Eligible(Ana)\n",
            "Substitution set: {'x': 'Ana'}\n"
          ]
        }
      ],
      "source": [
        "# Part 1\n",
        "# Rule: Eligible(x) -> Scholarship(x)\n",
        "# Fact: Eligible(Ana)\n",
        "\n",
        "def unify(variable, constant):\n",
        "    return {variable: constant}\n",
        "\n",
        "rule = \"Eligible(x) -> Scholarship(x)\"\n",
        "fact = \"Eligible(Ana)\"\n",
        "\n",
        "substitution = unify(\"x\", \"Ana\")\n",
        "\n",
        "print(\"Rule:\", rule)\n",
        "print(\"Fact:\", fact)\n",
        "print(\"Substitution set:\", substitution)\n"
      ]
    },
    {
      "cell_type": "markdown",
      "source": [
        "**Part 2:**\n",
        "List what new facts can be derived for Juan and Ana.\n",
        "\n",
        "\n",
        "---\n",
        "\n",
        "\n",
        "Answer:\n",
        "      Juan: None\n",
        "      Ana: Eligible(Ana), Scoalrship(Ana), FinancialSupport(Ana)\n",
        "\n",
        "\n",
        "---\n",
        "\n",
        "\n",
        "Why not eligible:\n",
        "      - Maria: Did not apply → fails condition\n",
        "        Carlos: No high grades → fails condition"
      ],
      "metadata": {
        "id": "OyvPtCawKc7W"
      }
    },
    {
      "cell_type": "code",
      "source": [
        "# Part 2\n",
        "# Rules:\n",
        "# 1. HighGrades(x) ∧ StudentLeader(x) ∧ Applied(x) → Eligible(x)\n",
        "# 2. Eligible(x) → Scholarship(x)\n",
        "# 3. Scholarship(x) → FinancialSupport(x)\n",
        "\n",
        "facts = {\n",
        "    \"Juan\": {\"HighGrades\", \"Applied\"},\n",
        "    \"Maria\": {\"HighGrades\", \"DidNotApply\"},\n",
        "    \"Carlos\": {\"StudentLeader\", \"NoHighGrades\"},\n",
        "    \"Ana\": {\"HighGrades\", \"StudentLeader\", \"Applied\"}\n",
        "}\n",
        "\n",
        "derived = {name: set() for name in facts}\n",
        "\n",
        "def forward_chaining():\n",
        "    for name, f in facts.items():\n",
        "        # Rule 1\n",
        "        if {\"HighGrades\", \"StudentLeader\", \"Applied\"} <= f:\n",
        "            derived[name].add(\"Eligible\")\n",
        "        # Rule 2\n",
        "        if \"Eligible\" in derived[name]:\n",
        "            derived[name].add(\"Scholarship\")\n",
        "        # Rule 3\n",
        "        if \"Scholarship\" in derived[name]:\n",
        "            derived[name].add(\"FinancialSupport\")\n",
        "\n",
        "forward_chaining()\n",
        "\n",
        "print(\"Part 2 – Forward Chaining Results:\")\n",
        "for person, new_facts in derived.items():\n",
        "    print(f\"{person}: {', '.join(new_facts) if new_facts else 'No new facts'}\")\n"
      ],
      "metadata": {
        "id": "JF32WHBvMRjc"
      },
      "execution_count": null,
      "outputs": []
    },
    {
      "cell_type": "code",
      "source": [
        "# Part 3\n",
        "# Goals: Scholarship(Maria), FinancialSupport(Ana)\n",
        "\n",
        "def prove(goal, person):\n",
        "    if goal == \"Scholarship\":\n",
        "        # Needs Eligible(person)\n",
        "        return \"Eligible\" in derived[person]\n",
        "    elif goal == \"FinancialSupport\":\n",
        "        # Needs Scholarship(person)\n",
        "        return \"Scholarship\" in derived[person]\n",
        "    elif goal == \"Eligible\":\n",
        "        # Needs HighGrades, StudentLeader, Applied\n",
        "        return {\"HighGrades\", \"StudentLeader\", \"Applied\"} <= facts[person]\n",
        "    return False\n",
        "\n",
        "print(\"Part 3 – Backward Chaining Results:\")\n",
        "print(\"Scholarship(Maria):\", prove(\"Scholarship\", \"Maria\"))\n",
        "print(\"FinancialSupport(Ana):\", prove(\"FinancialSupport\", \"Ana\"))\n"
      ],
      "metadata": {
        "id": "v9TSOo4xMbxy"
      },
      "execution_count": null,
      "outputs": []
    },
    {
      "cell_type": "markdown",
      "source": [
        "To prove Scholarship(Maria), we need Eligible(Maria), but she didn’t apply and isn’t a leader → goal fails.\n",
        "To prove FinancialSupport(Ana), we need Scholarship(Ana), which needs Eligible(Ana); since Ana has high grades, is a leader, and applied, all conditions are met → goal succeeds."
      ],
      "metadata": {
        "id": "jXhmQ8kpNEF3"
      }
    },
    {
      "cell_type": "markdown",
      "source": [
        "**PART 4:**![Screenshot 2025-09-19 214333.png](data:image/png;base64,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)"
      ],
      "metadata": {
        "id": "OH0_9JU9N51J"
      }
    },
    {
      "cell_type": "markdown",
      "source": [
        "**Part 5: Reflection**\n",
        "\n",
        "---\n",
        "\n",
        "\n",
        "Logical reasoning is important in AI because it allows systems to make consistent, step-by-step decisions based on rules and facts, just like humans do. It ensures that conclusions are valid and explainable, which helps build trust in AI outputs. In real life, logical reasoning helps people analyze problems clearly, avoid errors from bias or guesswork, and make fair and sound decisions. Together, these make reasoning a foundation for both intelligent machines and responsible human choices."
      ],
      "metadata": {
        "id": "fdXXcYjWOW8v"
      }
    }
  ]
}
{
  "nbformat": 4,
  "nbformat_minor": 0,
  "metadata": {
    "colab": {
      "provenance": [],
      "include_colab_link": true
    },
    "kernelspec": {
      "name": "python3",
      "display_name": "Python 3"
    },
    "language_info": {
      "name": "python"
    }
  },
  "cells": [
    {
      "cell_type": "markdown",
      "metadata": {
        "id": "view-in-github",
        "colab_type": "text"
      },
      "source": [
        "<a href=\"https://colab.research.google.com/github/isKyleangelo/CSST-101/blob/main/Mercado_Predicate_Logic.ipynb\" target=\"_parent\"><img src=\"https://colab.research.google.com/assets/colab-badge.svg\" alt=\"Open In Colab\"/></a>"
      ]
    },
    {
      "cell_type": "markdown",
      "source": [
        "# **1. Unification Checker**"
      ],
      "metadata": {
        "id": "ICQpVa-pLXXF"
      }
    },
    {
      "cell_type": "code",
      "execution_count": null,
      "metadata": {
        "colab": {
          "base_uri": "https://localhost:8080/"
        },
        "id": "7p5KFw54JMUD",
        "outputId": "a444efbd-07dd-497d-ee3c-5f93c891dbfe"
      },
      "outputs": [
        {
          "output_type": "stream",
          "name": "stdout",
          "text": [
            "Cannot be unified\n"
          ]
        }
      ],
      "source": [
        "def unify(p1, p2):\n",
        "    f1, f2 = p1.split(\"(\")[0], p2.split(\"(\")[0]\n",
        "    if f1 != f2: return \"Cannot be unified\"\n",
        "\n",
        "    a1, a2 = p1[p1.find(\"(\")+1:-1].split(\",\"), p2[p2.find(\"(\")+1:-1].split(\",\")\n",
        "    if len(a1) != len(a2): return \"Cannot be unified\"\n",
        "\n",
        "    subs = {}\n",
        "    for x, y in zip(a1, a2):\n",
        "        x, y = x.strip(), y.strip()\n",
        "        if x == y: continue\n",
        "        if x.islower(): subs[x] = y\n",
        "        elif y.islower(): subs[y] = x\n",
        "        else: return \"Cannot be unified\"\n",
        "\n",
        "    return subs or \"Already unified\"\n",
        "\n",
        "# Test\n",
        "print(unify(\"Parent(John, x)\", \"Parent(John, y)\"))\n"
      ]
    },
    {
      "cell_type": "markdown",
      "source": [
        "# **2. Forward Chaining**"
      ],
      "metadata": {
        "id": "imViwbCCLwiT"
      }
    },
    {
      "cell_type": "code",
      "source": [
        "facts = {\"Human(Socrates)\", \"Human(Plato)\"}\n",
        "rules = [(\"Human\", \"Mortal\"), (\"Mortal\", \"Dies\")]\n",
        "\n",
        "for p, c in rules:\n",
        "    for f in list(facts):\n",
        "        if f.startswith(p):\n",
        "            name = f[f.find(\"(\")+1:-1]\n",
        "            facts.add(f\"{c}({name})\")\n",
        "\n",
        "print(\"Final facts:\", facts)\n"
      ],
      "metadata": {
        "colab": {
          "base_uri": "https://localhost:8080/"
        },
        "id": "fGkkVR6gLw0T",
        "outputId": "b706ae09-2d93-4286-e68a-2141f593ae3d"
      },
      "execution_count": 1,
      "outputs": [
        {
          "output_type": "stream",
          "name": "stdout",
          "text": [
            "Final facts: {'Dies(Plato)', 'Human(Plato)', 'Human(Socrates)', 'Mortal(Plato)', 'Dies(Socrates)', 'Mortal(Socrates)'}\n"
          ]
        }
      ]
    },
    {
      "cell_type": "markdown",
      "source": [
        "# **3. Backward Chaining**"
      ],
      "metadata": {
        "id": "X59MBhaXL-Z0"
      }
    },
    {
      "cell_type": "code",
      "source": [
        "facts = {\"Student(Carlos)\", \"Studies(Carlos)\", \"Submits(Carlos, IT101)\", \"Studies(Ana)\", \"Submits(Ana, IT101)\"}\n",
        "premises = [\"Studies(x)\", \"Submits(x, IT101)\"]\n",
        "conclusion = \"Passed(x, IT101)\"\n",
        "\n",
        "def prove(goal):\n",
        "    if goal in facts: return True\n",
        "    if goal.startswith(\"Passed(\"):\n",
        "        name = goal[goal.find(\"(\")+1:goal.find(\",\")]\n",
        "        return all(prove(p.replace(\"x\", name)) for p in premises)\n",
        "    return False\n",
        "\n",
        "print(\"Carlos Passed?\", prove(\"Passed(Carlos, IT101)\"))\n",
        "print(\"Ana Passed?\", prove(\"Passed(Ana, IT101)\"))\n"
      ],
      "metadata": {
        "colab": {
          "base_uri": "https://localhost:8080/"
        },
        "id": "Ds8YCe3bL-oz",
        "outputId": "5ed4b77b-4cfd-4e7c-c149-999148c97c3c"
      },
      "execution_count": 9,
      "outputs": [
        {
          "output_type": "stream",
          "name": "stdout",
          "text": [
            "Carlos Passed? True\n",
            "Ana Passed? True\n"
          ]
        }
      ]
    }
  ]
}
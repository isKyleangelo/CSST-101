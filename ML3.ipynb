{
  "nbformat": 4,
  "nbformat_minor": 0,
  "metadata": {
    "colab": {
      "provenance": [],
      "authorship_tag": "ABX9TyPbuABAtPfGg0m6U05REE0h",
      "include_colab_link": true
    },
    "kernelspec": {
      "name": "python3",
      "display_name": "Python 3"
    },
    "language_info": {
      "name": "python"
    }
  },
  "cells": [
    {
      "cell_type": "markdown",
      "metadata": {
        "id": "view-in-github",
        "colab_type": "text"
      },
      "source": [
        "<a href=\"https://colab.research.google.com/github/isKyleangelo/CSST-101/blob/main/ML3.ipynb\" target=\"_parent\"><img src=\"https://colab.research.google.com/assets/colab-badge.svg\" alt=\"Open In Colab\"/></a>"
      ]
    },
    {
      "cell_type": "code",
      "execution_count": 6,
      "metadata": {
        "colab": {
          "base_uri": "https://localhost:8080/"
        },
        "id": "Y-0pTjF0Z__D",
        "outputId": "c4490650-4f24-4f67-c3e4-8b0d06076142"
      },
      "outputs": [
        {
          "output_type": "stream",
          "name": "stdout",
          "text": [
            "Hello! Welcome to the Health Advisor Expert System\n",
            "Please answer the following questions by 'yes' or 'no'. \n",
            "\n",
            "Do you have a fever?no\n",
            "Do you have a cough?no\n",
            "Do you have a sore_throat?no\n",
            "Do you have a headace?no\n",
            "Do you have a body_pain?no\n",
            "Do you have a runny_nose?no\n",
            "Do you have a nausea?no\n",
            "\n",
            "-----RESULT-----\n",
            "Based on your symptoms:\n",
            "\n",
            "Baka kulang ka lang sa KISS!\n",
            "\n",
            "Stay safe and hydrated! mwa!\n"
          ]
        }
      ],
      "source": [
        "print (\"Hello! Welcome to the Health Advisor Expert System\")\n",
        "print (\"Please answer the following questions by 'yes' or 'no'. \\n\")\n",
        "\n",
        "fever = input(\"Do you have a fever?\").lower()\n",
        "cough = input(\"Do you have a cough?\").lower()\n",
        "sore_throat = input(\"Do you have a sore_throat?\").lower()\n",
        "headache = input(\"Do you have a headace?\").lower()\n",
        "body_pain = input(\"Do you have a body_pain?\").lower()\n",
        "runny_nose = input(\"Do you have a runny_nose?\").lower()\n",
        "nausea = input(\"Do you have a nausea?\").lower()\n",
        "\n",
        "if fever == 'yes' and cough == 'yes' and sore_throat == 'yes' and body_pain == 'yes':\n",
        "  diagnosis = \"You may have a Flu!\"\n",
        "elif fever == 'no' and cough == 'no' and runny_nose == 'no'and sore_throat == 'no'and headache == 'no' and body_pain == 'no' and nausea == 'no':\n",
        "  diagnosis = \"Baka kulang ka lang sa KISS!\"\n",
        "elif fever == 'yes' and cough == 'yes' and runny_nose == 'yes':\n",
        "  diagnosis = \"You may have a Common Cold!\"\n",
        "elif fever == 'yes' and headache == 'yes' and nausea == 'yes':\n",
        "  diagnosis = \"You may have be experiencing DENGUE symptoms. Please consult to a doctor immedietly!!\"\n",
        "elif sore_throat == 'yes' and runny_nose == 'yes' and fever == 'no':\n",
        "  diagnosis = \"You may have a Allergic Rhinitis!\"\n",
        "elif body_pain == 'yes' and fever == 'no' and cough == 'no':\n",
        "  diagnosis = \"You may have may be experiencing Fatigue or Muscle Strain! Take a rest!\"\n",
        "else:\n",
        "  diagnosis = \"Sysmptoms are unclear. It is recommended to consult to a Profesional Health Advisor!\"\n",
        "\n",
        "print(\"\\n-----RESULT-----\")\n",
        "print(\"Based on your symptoms:\\n\")\n",
        "print(diagnosis)\n",
        "print(\"\\nStay safe and hydrated! mwa!\")"
      ]
    }
  ]
}